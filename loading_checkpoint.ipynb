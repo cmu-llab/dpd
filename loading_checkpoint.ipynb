{
 "cells": [
  {
   "cell_type": "markdown",
   "metadata": {},
   "source": [
    "# Loading DPD Checkpoint\n",
    "\n",
    "This notebook provides a demo of how to load, evaluate, and examine the output of one of our checkpoints."
   ]
  },
  {
   "cell_type": "code",
   "execution_count": 1,
   "metadata": {},
   "outputs": [],
   "source": [
    "DPD_ARTIFACT_LOCATION = \"/Users/chaosarium/dpd-artifacts\" # replace with where the artifacts from https://huggingface.co/chaosarium/dpd are stored\n",
    "DATASET = \"chinese_wikihan2022\" # among ['chinese_wikihan2022', 'Nromance_ipa']\n",
    "GROUP = 'group1' # among ['group1', 'group2', 'group3', 'group4']\n",
    "LABEL_SETTING = '0.1_labeled' # among ['0.1_labeled', '0.1_labeled_exclude_unlabelled', '0.2_labeled', '0.3_labeled', '0.05_labeled', '1.0_labeled']\n",
    "STRAT_ARCHI_ID = 'TransBpallPiBst' # among ['TransBpallPi', 'TransSupvBst', 'TransBpallPiBst', 'TransPiBst', 'TransBpallBst', 'GRUBpallPiBst', 'GRUBpallBst', 'GRUPiBst', 'GRUSupvBst', 'TransBpall', 'TransPi', 'TransSupv', 'GRUBpallPi', 'GRUBpall', 'GRUPi', 'GRUSupv']\n",
    "RUN_ID = 'emgrlfw6' # this should correspond with the run in the directory f'{DPD_ARTIFACT_LOCATION}/{DATASET}/{GROUP}/{LABEL_SETTING}/{STRAT_ARCHI_ID}/{RUN_ID}'"
   ]
  },
  {
   "cell_type": "markdown",
   "metadata": {},
   "source": [
    "## Loading some helpers"
   ]
  },
  {
   "cell_type": "code",
   "execution_count": 2,
   "metadata": {},
   "outputs": [
    {
     "name": "stderr",
     "output_type": "stream",
     "text": [
      "INFO:numexpr.utils:NumExpr defaulting to 8 threads.\n",
      "ERROR:wandb.jupyter:Failed to detect the name of this notebook, you can set it manually with the WANDB_NOTEBOOK_NAME environment variable to enable code saving.\n",
      "\u001b[34m\u001b[1mwandb\u001b[0m: Currently logged in as: \u001b[33mchaosarium\u001b[0m (\u001b[33mnov2023_test\u001b[0m). Use \u001b[1m`wandb login --relogin`\u001b[0m to force relogin\n"
     ]
    }
   ],
   "source": [
    "from lib.analysis_utils import *\n",
    "from prelude import *\n",
    "%load_ext autoreload\n",
    "%autoreload 2\n",
    "from lib.stats import *\n",
    "from lib.analysis_utils import *"
   ]
  },
  {
   "cell_type": "markdown",
   "metadata": {},
   "source": [
    "## Loading the checkpoint with the correct configuration"
   ]
  },
  {
   "cell_type": "code",
   "execution_count": 3,
   "metadata": {},
   "outputs": [
    {
     "name": "stderr",
     "output_type": "stream",
     "text": [
      "Global seed set to 2706283079\n"
     ]
    },
    {
     "name": "stdout",
     "output_type": "stream",
     "text": [
      "setting seed to 2706283079 to build dataset\n",
      "train set fingerprint ec61d8beb938380745ead508d738e0ddde01d7f06dec221ac5c120c4543000d7\n",
      "performing Xavier initialization\n",
      "performing Xavier initialization\n",
      "running extra init\n"
     ]
    },
    {
     "name": "stderr",
     "output_type": "stream",
     "text": [
      "/Users/chaosarium/anaconda3/lib/python3.10/site-packages/pytorch_lightning/utilities/migration/utils.py:51: PossibleUserWarning: The loaded checkpoint was produced with Lightning v2.0.7, which is newer than your current Lightning version: v2.0.4\n",
      "  rank_zero_warn(\n"
     ]
    }
   ],
   "source": [
    "run = BidirRun(\n",
    "    run_id=RUN_ID,\n",
    "    version='best',\n",
    "    verbose=False,\n",
    "    entity=None, # will be ignored\n",
    "    project=None, # will be ignored\n",
    "    from_file=True,\n",
    "    checkpoint_filepath=f'{DPD_ARTIFACT_LOCATION}/{DATASET}/{GROUP}/{LABEL_SETTING}/{STRAT_ARCHI_ID}/{RUN_ID}',\n",
    "    config_filepath=f'{DPD_ARTIFACT_LOCATION}/configs/{DATASET}/{GROUP}/{LABEL_SETTING}/{STRAT_ARCHI_ID}/config.pkl',\n",
    ")"
   ]
  },
  {
   "cell_type": "markdown",
   "metadata": {},
   "source": [
    "## Running evaluation"
   ]
  },
  {
   "cell_type": "code",
   "execution_count": 4,
   "metadata": {},
   "outputs": [
    {
     "name": "stderr",
     "output_type": "stream",
     "text": [
      "                                                                            \r"
     ]
    },
    {
     "data": {
      "text/plain": [
       "[{'d2p/val/loss': 1.2003250122070312,\n",
       "  'd2p/val/accuracy': 0.42497581243515015,\n",
       "  'd2p/val/char_edit_distance': 1.1219748258590698,\n",
       "  'd2p/val/phoneme_edit_distance': 0.9728944897651672,\n",
       "  'd2p/val/phoneme_error_rate': 0.22789116203784943,\n",
       "  'd2p/val/feature_error_rate': 0.09473984688520432,\n",
       "  'd2p/val/bcubed_f_score': 0.679564356803894,\n",
       "  'd2p/val/avg_target_phoneme_len': 4.2691192626953125,\n",
       "  'd2p/val/avg_prediction_phoneme_len': 4.2178120613098145}]"
      ]
     },
     "execution_count": 4,
     "metadata": {},
     "output_type": "execute_result"
    }
   ],
   "source": [
    "run.evaluate_d2p(split='test')"
   ]
  },
  {
   "cell_type": "markdown",
   "metadata": {},
   "source": [
    "## Getting outputs"
   ]
  },
  {
   "cell_type": "code",
   "execution_count": 5,
   "metadata": {},
   "outputs": [
    {
     "data": {
      "text/html": [
       "<div>\n",
       "<style scoped>\n",
       "    .dataframe tbody tr th:only-of-type {\n",
       "        vertical-align: middle;\n",
       "    }\n",
       "\n",
       "    .dataframe tbody tr th {\n",
       "        vertical-align: top;\n",
       "    }\n",
       "\n",
       "    .dataframe thead th {\n",
       "        text-align: right;\n",
       "    }\n",
       "</style>\n",
       "<table border=\"1\" class=\"dataframe\">\n",
       "  <thead>\n",
       "    <tr style=\"text-align: right;\">\n",
       "      <th></th>\n",
       "      <th>Cantonese</th>\n",
       "      <th>Mandarin</th>\n",
       "      <th>Hokkien</th>\n",
       "      <th>Middle Chinese (Baxter and Sagart 2014)</th>\n",
       "      <th>proto_hat</th>\n",
       "      <th>Wu</th>\n",
       "      <th>Gan</th>\n",
       "      <th>Hakka</th>\n",
       "      <th>Jin</th>\n",
       "      <th>Xiang</th>\n",
       "    </tr>\n",
       "  </thead>\n",
       "  <tbody>\n",
       "    <tr>\n",
       "      <th>0</th>\n",
       "      <td>[p, ɔː, ŋ, ˥]</td>\n",
       "      <td>[p, a, ŋ, ˥]</td>\n",
       "      <td>[p, a, ŋ, ˥]</td>\n",
       "      <td>[p, æ, ŋʷ, 平]</td>\n",
       "      <td>[p, a, ŋ, 平]</td>\n",
       "      <td>NaN</td>\n",
       "      <td>NaN</td>\n",
       "      <td>NaN</td>\n",
       "      <td>NaN</td>\n",
       "      <td>NaN</td>\n",
       "    </tr>\n",
       "    <tr>\n",
       "      <th>1</th>\n",
       "      <td>[w, ɐi̯, ˧]</td>\n",
       "      <td>[u̯ei̯, ˥˩]</td>\n",
       "      <td>[u̯i, ˧˩]</td>\n",
       "      <td>[ʔ, j, w, ɨ, j, 去]</td>\n",
       "      <td>[ʔ, w, i, j, 去]</td>\n",
       "      <td>NaN</td>\n",
       "      <td>NaN</td>\n",
       "      <td>NaN</td>\n",
       "      <td>NaN</td>\n",
       "      <td>NaN</td>\n",
       "    </tr>\n",
       "    <tr>\n",
       "      <th>2</th>\n",
       "      <td>[pʰ, aːu̯, ˨˩]</td>\n",
       "      <td>[pʰ, au̯, ˧˥]</td>\n",
       "      <td>NaN</td>\n",
       "      <td>[b, æ, w, 平]</td>\n",
       "      <td>[b, æ, w, 平]</td>\n",
       "      <td>[b, ̥, ɔ, ˨˧]</td>\n",
       "      <td>NaN</td>\n",
       "      <td>NaN</td>\n",
       "      <td>NaN</td>\n",
       "      <td>NaN</td>\n",
       "    </tr>\n",
       "    <tr>\n",
       "      <th>3</th>\n",
       "      <td>[kʰ, ɐu̯, ˩˧]</td>\n",
       "      <td>[t͡ɕ, i̯oʊ̯, ˥˩]</td>\n",
       "      <td>[k, u, ˧]</td>\n",
       "      <td>[g, j, u, w, 上]</td>\n",
       "      <td>[g, j, u, w, 上]</td>\n",
       "      <td>[d, ̥͡ʑ, i̯ɜ, ˨˧]</td>\n",
       "      <td>[t͡ɕʰ, i̯u, ˩˩]</td>\n",
       "      <td>[kʰ, i̯u, ˨˦]</td>\n",
       "      <td>[t͡ɕ, i̯əu̯, ˦˥]</td>\n",
       "      <td>[t͡ɕ, i̯əu̯, ˨˩]</td>\n",
       "    </tr>\n",
       "    <tr>\n",
       "      <th>4</th>\n",
       "      <td>[t͡sʰ, ɵy̯, ˧]</td>\n",
       "      <td>[t͡sʰ, u̯ei̯, ˥˩]</td>\n",
       "      <td>[t͡sʰ, u̯i, ˧˩]</td>\n",
       "      <td>[t͡sʰ, w, i, j, 去]</td>\n",
       "      <td>[t͡sʰ, j, w, e, 去]</td>\n",
       "      <td>NaN</td>\n",
       "      <td>NaN</td>\n",
       "      <td>NaN</td>\n",
       "      <td>NaN</td>\n",
       "      <td>NaN</td>\n",
       "    </tr>\n",
       "    <tr>\n",
       "      <th>...</th>\n",
       "      <td>...</td>\n",
       "      <td>...</td>\n",
       "      <td>...</td>\n",
       "      <td>...</td>\n",
       "      <td>...</td>\n",
       "      <td>...</td>\n",
       "      <td>...</td>\n",
       "      <td>...</td>\n",
       "      <td>...</td>\n",
       "      <td>...</td>\n",
       "    </tr>\n",
       "    <tr>\n",
       "      <th>1028</th>\n",
       "      <td>[s, ɐ, p, ˨]</td>\n",
       "      <td>[ʂ, z̩, ˧˥]</td>\n",
       "      <td>[ɕ, i, p, ˥]</td>\n",
       "      <td>[d͡ʑ, i, p, 入]</td>\n",
       "      <td>[d͡ʑ, i, p, 入]</td>\n",
       "      <td>NaN</td>\n",
       "      <td>NaN</td>\n",
       "      <td>NaN</td>\n",
       "      <td>NaN</td>\n",
       "      <td>NaN</td>\n",
       "    </tr>\n",
       "    <tr>\n",
       "      <th>1029</th>\n",
       "      <td>[l, ɔː, k, ˨]</td>\n",
       "      <td>[l, u̯ɔ, ˥˩]</td>\n",
       "      <td>[l, ɔ, k, ˥]</td>\n",
       "      <td>[l, a, k, 入]</td>\n",
       "      <td>[l, w, a, k, 入]</td>\n",
       "      <td>NaN</td>\n",
       "      <td>NaN</td>\n",
       "      <td>NaN</td>\n",
       "      <td>NaN</td>\n",
       "      <td>NaN</td>\n",
       "    </tr>\n",
       "    <tr>\n",
       "      <th>1030</th>\n",
       "      <td>[t͡sʰ, iː, m, ˨˩]</td>\n",
       "      <td>[t͡ɕʰ, i̯ɛ, n, ˧˥]</td>\n",
       "      <td>[t͡ɕ, i̯a, m, ˨˦]</td>\n",
       "      <td>[d͡z, j, e, m, 平]</td>\n",
       "      <td>[z, j, e, m, 平]</td>\n",
       "      <td>[ʑ, ̥, i, ˨˧]</td>\n",
       "      <td>NaN</td>\n",
       "      <td>[ɕ, i̯a, m, ˩]</td>\n",
       "      <td>NaN</td>\n",
       "      <td>NaN</td>\n",
       "    </tr>\n",
       "    <tr>\n",
       "      <th>1031</th>\n",
       "      <td>[s, ɐ, m, ˥]</td>\n",
       "      <td>[s, ə, n, ˥]</td>\n",
       "      <td>[ɕ, i, m, ˥]</td>\n",
       "      <td>[ʂ, i, m, 平]</td>\n",
       "      <td>[ɕ, i, m, 平]</td>\n",
       "      <td>[s, ə, ɲ, ˥˧]</td>\n",
       "      <td>[s, ɛ, n, ˦˨]</td>\n",
       "      <td>[s, e, m, ˨˦]</td>\n",
       "      <td>[s, ə̃, ŋ, ˩˩]</td>\n",
       "      <td>[s, ə, n, ˧˧]</td>\n",
       "    </tr>\n",
       "    <tr>\n",
       "      <th>1032</th>\n",
       "      <td>[s, ɪ, ŋ, ˨˩]</td>\n",
       "      <td>[ʂ, ɤ, ŋ, ˧˥]</td>\n",
       "      <td>[t͡ɕ, i, n, ˨˦]</td>\n",
       "      <td>[ʑ, i, ŋ, 平]</td>\n",
       "      <td>[d͡ʑ, e, ŋ, 平]</td>\n",
       "      <td>[z, ̥, ə, ɲ, ˨˧]</td>\n",
       "      <td>NaN</td>\n",
       "      <td>[s, ɨ, n, ˩]</td>\n",
       "      <td>NaN</td>\n",
       "      <td>NaN</td>\n",
       "    </tr>\n",
       "  </tbody>\n",
       "</table>\n",
       "<p>1033 rows × 10 columns</p>\n",
       "</div>"
      ],
      "text/plain": [
       "              Cantonese            Mandarin            Hokkien  \\\n",
       "0         [p, ɔː, ŋ, ˥]        [p, a, ŋ, ˥]       [p, a, ŋ, ˥]   \n",
       "1           [w, ɐi̯, ˧]         [u̯ei̯, ˥˩]          [u̯i, ˧˩]   \n",
       "2        [pʰ, aːu̯, ˨˩]       [pʰ, au̯, ˧˥]                NaN   \n",
       "3         [kʰ, ɐu̯, ˩˧]    [t͡ɕ, i̯oʊ̯, ˥˩]          [k, u, ˧]   \n",
       "4        [t͡sʰ, ɵy̯, ˧]   [t͡sʰ, u̯ei̯, ˥˩]    [t͡sʰ, u̯i, ˧˩]   \n",
       "...                 ...                 ...                ...   \n",
       "1028       [s, ɐ, p, ˨]         [ʂ, z̩, ˧˥]       [ɕ, i, p, ˥]   \n",
       "1029      [l, ɔː, k, ˨]        [l, u̯ɔ, ˥˩]       [l, ɔ, k, ˥]   \n",
       "1030  [t͡sʰ, iː, m, ˨˩]  [t͡ɕʰ, i̯ɛ, n, ˧˥]  [t͡ɕ, i̯a, m, ˨˦]   \n",
       "1031       [s, ɐ, m, ˥]        [s, ə, n, ˥]       [ɕ, i, m, ˥]   \n",
       "1032      [s, ɪ, ŋ, ˨˩]       [ʂ, ɤ, ŋ, ˧˥]    [t͡ɕ, i, n, ˨˦]   \n",
       "\n",
       "     Middle Chinese (Baxter and Sagart 2014)           proto_hat  \\\n",
       "0                              [p, æ, ŋʷ, 平]        [p, a, ŋ, 平]   \n",
       "1                         [ʔ, j, w, ɨ, j, 去]     [ʔ, w, i, j, 去]   \n",
       "2                               [b, æ, w, 平]        [b, æ, w, 平]   \n",
       "3                            [g, j, u, w, 上]     [g, j, u, w, 上]   \n",
       "4                         [t͡sʰ, w, i, j, 去]  [t͡sʰ, j, w, e, 去]   \n",
       "...                                      ...                 ...   \n",
       "1028                          [d͡ʑ, i, p, 入]      [d͡ʑ, i, p, 入]   \n",
       "1029                            [l, a, k, 入]     [l, w, a, k, 入]   \n",
       "1030                       [d͡z, j, e, m, 平]     [z, j, e, m, 平]   \n",
       "1031                            [ʂ, i, m, 平]        [ɕ, i, m, 平]   \n",
       "1032                            [ʑ, i, ŋ, 平]      [d͡ʑ, e, ŋ, 平]   \n",
       "\n",
       "                     Wu              Gan           Hakka               Jin  \\\n",
       "0                   NaN              NaN             NaN               NaN   \n",
       "1                   NaN              NaN             NaN               NaN   \n",
       "2         [b, ̥, ɔ, ˨˧]              NaN             NaN               NaN   \n",
       "3     [d, ̥͡ʑ, i̯ɜ, ˨˧]  [t͡ɕʰ, i̯u, ˩˩]   [kʰ, i̯u, ˨˦]  [t͡ɕ, i̯əu̯, ˦˥]   \n",
       "4                   NaN              NaN             NaN               NaN   \n",
       "...                 ...              ...             ...               ...   \n",
       "1028                NaN              NaN             NaN               NaN   \n",
       "1029                NaN              NaN             NaN               NaN   \n",
       "1030      [ʑ, ̥, i, ˨˧]              NaN  [ɕ, i̯a, m, ˩]               NaN   \n",
       "1031      [s, ə, ɲ, ˥˧]    [s, ɛ, n, ˦˨]   [s, e, m, ˨˦]    [s, ə̃, ŋ, ˩˩]   \n",
       "1032   [z, ̥, ə, ɲ, ˨˧]              NaN    [s, ɨ, n, ˩]               NaN   \n",
       "\n",
       "                 Xiang  \n",
       "0                  NaN  \n",
       "1                  NaN  \n",
       "2                  NaN  \n",
       "3     [t͡ɕ, i̯əu̯, ˨˩]  \n",
       "4                  NaN  \n",
       "...                ...  \n",
       "1028               NaN  \n",
       "1029               NaN  \n",
       "1030               NaN  \n",
       "1031     [s, ə, n, ˧˧]  \n",
       "1032               NaN  \n",
       "\n",
       "[1033 rows x 10 columns]"
      ]
     },
     "execution_count": 5,
     "metadata": {},
     "output_type": "execute_result"
    }
   ],
   "source": [
    "sample_output_for_run(run.dm.test_set, run)"
   ]
  },
  {
   "cell_type": "code",
   "execution_count": null,
   "metadata": {},
   "outputs": [],
   "source": []
  }
 ],
 "metadata": {
  "kernelspec": {
   "display_name": "base",
   "language": "python",
   "name": "python3"
  },
  "language_info": {
   "codemirror_mode": {
    "name": "ipython",
    "version": 3
   },
   "file_extension": ".py",
   "mimetype": "text/x-python",
   "name": "python",
   "nbconvert_exporter": "python",
   "pygments_lexer": "ipython3",
   "version": "3.10.13"
  }
 },
 "nbformat": 4,
 "nbformat_minor": 2
}
